{
  "nbformat": 4,
  "nbformat_minor": 0,
  "metadata": {
    "colab": {
      "provenance": []
    },
    "kernelspec": {
      "name": "python3",
      "display_name": "Python 3"
    },
    "language_info": {
      "name": "python"
    }
  },
  "cells": [
    {
      "cell_type": "code",
      "execution_count": null,
      "metadata": {
        "id": "PjXrqIITAU2w"
      },
      "outputs": [],
      "source": [
        "!pip install bs4\n",
        "!pip install requests\n",
        "!pip install pandas\n",
        "!pip install numpy\n",
        "from bs4 import BeautifulSoup\n",
        "import requests\n",
        "import pandas as pd\n",
        "import numpy as np"
      ]
    },
    {
      "cell_type": "code",
      "source": [
        "def get_title(soup):\n",
        "\n",
        "    try:\n",
        "        # Outer Tag Object\n",
        "        title = soup.find(\"h1\", attrs={'class':'_2Ximl'})\n",
        "\n",
        "        # Inner NavigatableString Object\n",
        "        title_value = title.text\n",
        "\n",
        "        # Title as a string value\n",
        "        title_string = title_value.strip()\n",
        "\n",
        "    except AttributeError:\n",
        "        title_string = \"\"\n",
        "\n",
        "    return title_string\n",
        "\n",
        "# Function to extract Product Price\n",
        "def get_price(soup):\n",
        "\n",
        "    try:\n",
        "        price = soup.find(\"div\", attrs={\"class\":'d-flex align-items-center'}).find(\"strong\",{\"class\":'_3i9_p'}).text.strip()\n",
        "\n",
        "    except AttributeError:\n",
        "\n",
        "      price = \"\"\n",
        "\n",
        "    return price\n",
        "# Function to extract emi\n",
        "def get_emi(soup):\n",
        "\n",
        "    try:\n",
        "        emi = soup.find(\"strong\",{\"class\":'_3i9_p _3d4o3'}).text.strip()\n",
        "\n",
        "    except AttributeError:\n",
        "\n",
        "      emi = \"\"\n",
        "\n",
        "    return emi\n",
        "\n",
        "# Function to extract parking location\n",
        "def get_parking(soup):\n",
        "\n",
        "    try:\n",
        "        parking = soup.find('li',{'class':'_1Rvdw'}).text.rstrip(\"\\n\").strip()\n",
        "\n",
        "    except AttributeError:\n",
        "        parking = \"\"\n",
        "    return parking\n",
        "\n",
        "# Function to extract km driven\n",
        "def get_km_driven(soup):\n",
        "    try:\n",
        "        km_driven = fuel_type = new_soup.find(\"ul\", attrs={\"class\":'_2JSmz'}).find_all(\"li\")[0].string.strip()\n",
        "\n",
        "    except AttributeError:\n",
        "        km_driven = \"\"\n",
        "\n",
        "    return km_driven\n",
        "\n",
        "# Function to extract fuel type\n",
        "def get_fuel_type(soup):\n",
        "    try:\n",
        "        fuel_type = new_soup.find(\"ul\", attrs={\"class\":'_2JSmz'}).find_all(\"li\")[2].string.strip()\n",
        "\n",
        "    except AttributeError:\n",
        "       fuel_type = \"\"\n",
        "\n",
        "    return fuel_type\n",
        "# Function to extract transmission\n",
        "def get_transmission(soup):\n",
        "    try:\n",
        "        transmission = new_soup.find(\"ul\", attrs={\"class\":'_2JSmz'}).find_all(\"li\")[3].string.strip()\n",
        "\n",
        "    except AttributeError:\n",
        "       transmission = \"\"\n",
        "\n",
        "    return transmission\n",
        "# Function to extract owner type\n",
        "def get_owner_type(soup):\n",
        "    try:\n",
        "        owner_type = new_soup.find(\"ul\", attrs={\"class\":'_2JSmz'}).find_all(\"li\")[1].string.strip()\n",
        "\n",
        "    except AttributeError:\n",
        "       owner_type = \"\"\n",
        "\n",
        "    return owner_type"
      ],
      "metadata": {
        "id": "MIT901ifAWB8"
      },
      "execution_count": null,
      "outputs": []
    },
    {
      "cell_type": "code",
      "source": [
        "URL=\"https://www.cars24.com/buy-used-car?f=make%3A%3D%3Amahindra&sort=bestmatch&serveWarrantyCount=true&gaId=319284782.1720028907&listingSource=TabFilter&storeCityId=1692\"\n",
        "    webpage = requests.get(URL)\n",
        "\n",
        "    # Soup Object containing all data\n",
        "    soup = BeautifulSoup(webpage.content, \"html.parser\")\n",
        "\n",
        "    # Fetch links as List of Tag Objects\n",
        "\n",
        "    links = soup.find_all(\"a\",attrs={'class':'IIJDn'})\n",
        "\n",
        "    # Store the links\n",
        "    links_list = []\n",
        "\n",
        "    # Loop for extracting links from Tag Objects\n",
        "    for link in links:\n",
        "            links_list.append(link.get('href'))\n",
        "\n",
        "    d = {\"title\":[], \"price\":[], \"emi\":[], \"parking location\":[], \"fuel type\":[], \"transmission\":[], \"owner type\":[],\"km driven\":[]}\n",
        "\n",
        "\n",
        "    # Loop for extracting product details from each link\n",
        "    for link in links_list:\n",
        "        new_webpage = requests.get(link)\n",
        "\n",
        "        new_soup = BeautifulSoup(new_webpage.content, \"html.parser\")\n",
        "        d[\"title\"].append(get_title(new_soup))\n",
        "        d[\"price\"].append(get_price(new_soup))\n",
        "        d[\"emi\"].append(get_emi(new_soup))\n",
        "        d[\"parking location\"].append(get_parking(new_soup))\n",
        "        d[\"km driven\"].append(get_km_driven(new_soup))\n",
        "        d[\"fuel type\"].append(get_fuel_type(new_soup))\n",
        "        d[\"transmission\"].append(get_transmission(new_soup))\n",
        "        d[\"owner type\"].append(get_owner_type(new_soup))\n",
        "\n",
        "    cars_df = pd.DataFrame.from_dict(d)\n",
        "    cars_df['title'].replace('', np.nan, inplace=True)\n",
        "    cars_df = cars_df.dropna(subset=['title'])\n",
        "    cars_df.to_csv(\"cars2_data.csv\", header=True, index=False)"
      ],
      "metadata": {
        "id": "OEtjQJ5SAiaw"
      },
      "execution_count": null,
      "outputs": []
    },
    {
      "cell_type": "code",
      "source": [
        "cars_df"
      ],
      "metadata": {
        "id": "WtXAM4k-Almz"
      },
      "execution_count": null,
      "outputs": []
    },
    {
      "cell_type": "code",
      "source": [
        "from google.colab import files\n",
        "files.download('cars2_data.csv')"
      ],
      "metadata": {
        "id": "D9-bRWSUApOw"
      },
      "execution_count": null,
      "outputs": []
    }
  ]
}